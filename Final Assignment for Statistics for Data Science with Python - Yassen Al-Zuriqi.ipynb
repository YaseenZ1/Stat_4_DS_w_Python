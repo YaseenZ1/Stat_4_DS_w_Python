{
 "cells": [
  {
   "cell_type": "markdown",
   "metadata": {},
   "source": [
    "<center>\n",
    "    <img src=\"https://s3-api.us-geo.objectstorage.softlayer.net/cf-courses-data/CognitiveClass/Logos/organization_logo/organization_logo.png\" width=\"700\" alt=\"cognitiveclass.ai logo\">\n",
    "</center>\n"
   ]
  },
  {
   "cell_type": "markdown",
   "metadata": {},
   "source": [
    "## \n",
    "\n",
    "## **Statistics for Data science with python**\n",
    "###\n",
    "### Final Assignment by: **Yaseen Al-Zuriqi**\n",
    "###\n",
    "\n"
   ]
  },
  {
   "cell_type": "markdown",
   "metadata": {},
   "source": [
    "#### **Project Scenario**: \n",
    "#### You are a Data Scientist with a housing agency in Boston MA, you have been given access to a previous dataset on housing \n",
    "#### prices derived from the U.S. Census Service to present insights to higher management. Based on your experience in Statistics, \n",
    "#### what information can you provide them to help with making an informed decision? Upper management will like to \n",
    "#### get some insight into the following:\n",
    "\n",
    "##### - Is there a significant difference in the median value of houses bounded by the Charles river or not?\n",
    "##### - Is there a difference in median values of houses of each proportion of owner-occupied units built before 1940?\n",
    "##### - Can we conclude that there is no relationship between Nitric oxide concentrations and the proportion of non-retail business acres per town?\n",
    "##### - What is the impact of an additional weighted distance to the five Boston employment centres on the median value of owner-occupied homes?\n",
    "#####"
   ]
  },
  {
   "cell_type": "markdown",
   "metadata": {},
   "source": [
    "# Task 1: Become familiar with the dataset"
   ]
  },
  {
   "cell_type": "markdown",
   "metadata": {},
   "source": [
    " \n",
    "## Answers for task 1 \n",
    "## 👇"
   ]
  },
  {
   "cell_type": "markdown",
   "metadata": {},
   "source": [
    "### Data Dictionary"
   ]
  },
  {
   "cell_type": "markdown",
   "metadata": {},
   "source": [
    "\n",
    "### The following describes the dataset variables:\n",
    "| Variable          | Description                                                                           |\n",
    "|----------------|---------------------------------------------------------------------------------------|\n",
    "| CRIM|\tper capita crime rate by town|\n",
    "| ZN|\tproportion of residential land zoned for lots over 25,000 sq.ft.|\n",
    "| INDUS| proportion of non-retail business acres per town.\t|\n",
    "| CHAS| Charles River dummy variable (1 if tract bounds river; 0 otherwise)\t|\n",
    "| NOX|\tnitric oxides concentration (parts per 10 million)|\n",
    "| RM|\taverage number of rooms per dwelling|\n",
    "| AGE|\tproportion of owner-occupied units built prior to 1940 |\n",
    "| DIS|\tweighted distances to five Boston employment centres |\n",
    "| RAD|\tindex of accessibility to radial highways |\n",
    "| TAX |\tfull-value property-tax rate per 10,000  |\n",
    "| PTRATIO |\t pupil-teacher ratio by town|\n",
    "| LSTAT|  lower status of the population|\n",
    "| MEDV | Median value of owner-occupied homes in 1000s|"
   ]
  },
  {
   "cell_type": "markdown",
   "metadata": {},
   "source": [
    "### Import the required libraries that are needed for the lab."
   ]
  },
  {
   "cell_type": "code",
   "execution_count": 1,
   "metadata": {},
   "outputs": [],
   "source": [
    "# Import the required libraries that are needed for the lab.\n",
    "import pandas as pd\n",
    "import seaborn as sns\n",
    "import matplotlib.pyplot as plt\n",
    "import scipy.stats\n",
    "import statsmodels.api as sm\n",
    "from statsmodels.formula.api import ols\n",
    "\n",
    "# adjust some visualization setting\n",
    "%matplotlib inline\n",
    "sns.set_style('dark')\n",
    "sns.set(font_scale=1.2)\n"
   ]
  },
  {
   "cell_type": "markdown",
   "metadata": {},
   "source": [
    "### Read the dataset in the csv file from the URL\n"
   ]
  },
  {
   "cell_type": "code",
   "execution_count": null,
   "metadata": {},
   "outputs": [],
   "source": [
    "boston_df=pd.read_csv('https://cf-courses-data.s3.us.cloud-object-storage.appdomain.cloud/IBMDeveloperSkillsNetwork-ST0151EN-SkillsNetwork/labs/boston_housing.csv')\n",
    "df = pd.DataFrame(boston_df)\n",
    "df.head(5)"
   ]
  },
  {
   "cell_type": "code",
   "execution_count": null,
   "metadata": {},
   "outputs": [],
   "source": [
    "# delete the extra column \"Unnamed\"\n",
    "df.drop(columns=df.columns[0], axis=1, inplace=True)\n",
    "df.head(2)"
   ]
  },
  {
   "cell_type": "code",
   "execution_count": null,
   "metadata": {},
   "outputs": [],
   "source": [
    "df.info()"
   ]
  },
  {
   "cell_type": "code",
   "execution_count": null,
   "metadata": {},
   "outputs": [],
   "source": [
    "df.describe()"
   ]
  },
  {
   "cell_type": "code",
   "execution_count": null,
   "metadata": {},
   "outputs": [],
   "source": [
    "# Generate histogram for all variables\n",
    "\n",
    "df.hist(bins=50, figsize=(20,10))\n",
    "plt.suptitle('Feature Distribution', x=0.5, y=1.02, ha='center', fontsize='large')\n",
    "plt.tight_layout()\n",
    "plt.show()"
   ]
  },
  {
   "cell_type": "markdown",
   "metadata": {},
   "source": [
    "#### ----------------------------------------------------------------------------------------------------------\n",
    "#### ---------------------------------------------------------------------------------------------------------- "
   ]
  },
  {
   "cell_type": "markdown",
   "metadata": {},
   "source": [
    "# Task 2: Generate Descriptive Statistics and Visualizations\n",
    "\n"
   ]
  },
  {
   "cell_type": "markdown",
   "metadata": {},
   "source": [
    "#####  \n",
    "\n",
    "### Answers for task 2 \n",
    "## 👇"
   ]
  },
  {
   "cell_type": "markdown",
   "metadata": {},
   "source": [
    "### For the \"Median value of owner-occupied homes\" provide a boxplot"
   ]
  },
  {
   "cell_type": "code",
   "execution_count": null,
   "metadata": {},
   "outputs": [],
   "source": [
    "plt.figure(figsize = (7,7)) \n",
    "plt.title(\"Median value of owner-occupied homes\")\n",
    "sns.boxplot(x = df[\"MEDV\"])\n",
    "plt.show()"
   ]
  },
  {
   "cell_type": "markdown",
   "metadata": {},
   "source": [
    "#### Note: in general \"Median value of owner-occupied homes\" seems to be normally distributed .. but the boxplot also shows that alot of outliers after the third quartile\n",
    "####  ---------------------------------------------------------------------------------------------------------------------\n",
    "####\n"
   ]
  },
  {
   "cell_type": "markdown",
   "metadata": {},
   "source": [
    "### Provide a  bar plot for the Charles river variable"
   ]
  },
  {
   "cell_type": "code",
   "execution_count": null,
   "metadata": {},
   "outputs": [],
   "source": [
    "plt.figure(figsize = (7,7)) \n",
    "sns.countplot(x='CHAS', data=df, hue=\"CHAS\")\n",
    "\n",
    "\n",
    "plt.title('Count of Charles river variable')\n",
    "plt.xlabel('CHAS')\n",
    "plt.ylabel('Count')\n",
    "\n",
    "# Show the plot\n",
    "\n",
    "plt.show()"
   ]
  },
  {
   "cell_type": "markdown",
   "metadata": {},
   "source": [
    "#### **NOTE:**: The graph shows that the majority are living away from charles River\n",
    "### -------------------------------------------------------------------------------------------\n",
    "###"
   ]
  },
  {
   "cell_type": "markdown",
   "metadata": {},
   "source": [
    "### Provide a boxplot for the MEDV variable vs the AGE variable. (Discretize the age variable into three groups of 35 years and younger, between 35 and 70 years and 70 years and older)"
   ]
  },
  {
   "cell_type": "code",
   "execution_count": null,
   "metadata": {},
   "outputs": [],
   "source": [
    "# Discretize the age variable into three groups of 35 years and younger, between 35 and 70 years and 70 years and olderabs\n",
    "df.loc[(df[\"AGE\"] <= 35),'age_group'] = '35 years and younger'\n",
    "df.loc[(df[\"AGE\"] > 35) & (df[\"AGE\"]<70),'age_group'] = 'between 35 and 70 years'\n",
    "df.loc[(df[\"AGE\"] >= 70),'age_group'] = '70 years and older'"
   ]
  },
  {
   "cell_type": "code",
   "execution_count": null,
   "metadata": {},
   "outputs": [],
   "source": [
    "df.head(3)"
   ]
  },
  {
   "cell_type": "code",
   "execution_count": null,
   "metadata": {},
   "outputs": [],
   "source": [
    "# Provide a boxplot for the MEDV variable vs the AGE variable.\n",
    "plt.figure(figsize=(7,7))\n",
    "sns.boxplot(x=df.MEDV, y=df.age_group, data=df, hue=\"age_group\")\n",
    "plt.title(\"Boxplot for the MEDV variable vs the AGE variable\")\n",
    "plt.show()\n"
   ]
  },
  {
   "cell_type": "markdown",
   "metadata": {},
   "source": [
    "#### **Note**: 35 years or younger group pays the highest median house price while above 70s are shifting to cheaper houses\n",
    "#### -----------------------------------------------------------------------------------------------------------------------\n",
    "####"
   ]
  },
  {
   "cell_type": "markdown",
   "metadata": {},
   "source": [
    "### Provide a scatter plot to show the relationship between Nitric oxide concentrations and the proportion of non-retail business acres per town. What can you say about the relationship?"
   ]
  },
  {
   "cell_type": "code",
   "execution_count": null,
   "metadata": {},
   "outputs": [],
   "source": [
    "plt.figure(figsize=(7,7))\n",
    "sns.scatterplot(x=df.NOX, y=df.INDUS, data=df)\n",
    "plt.title(\"Relationship between NOX and INDUS\")\n",
    "plt.show()"
   ]
  },
  {
   "cell_type": "markdown",
   "metadata": {},
   "source": [
    "#### **NOTE**: The NOX is positively correlated to INDUS. The graph shows increment in NOX concentration along with the increment in non-retail business, but once the non retail business is greater than 15 the Nitric Oxide concentration become constant. \n",
    "#### ----------------------------------------------------------------------------------------------------------------------\n",
    "####"
   ]
  },
  {
   "cell_type": "markdown",
   "metadata": {},
   "source": [
    "### Create a histogram for the pupil to teacher ratio variable"
   ]
  },
  {
   "cell_type": "code",
   "execution_count": null,
   "metadata": {},
   "outputs": [],
   "source": [
    "# Create a histogram for the pupil to teacher ratio variable\n",
    "\n",
    "ax = df[\"PTRATIO\"].hist(bins=20, figsize=(7,7))\n",
    "ax.set(xlabel='PTRATIO', ylabel='Frequency', title = \"Histogram of pupil to teacher ratio\")\n",
    "plt.tight_layout()\n",
    "plt.show()"
   ]
  },
  {
   "cell_type": "markdown",
   "metadata": {},
   "source": [
    "#### **Note**: The graph shows that the distribution of pupil to teacher ratio variable is left skewed\n",
    "#### -----------------------------------------------------------------------------------------------------\n",
    "#### "
   ]
  },
  {
   "cell_type": "markdown",
   "metadata": {},
   "source": [
    "#### ----------------------------------------------------------------------------------------------------------\n",
    "#### ---------------------------------------------------------------------------------------------------------- "
   ]
  },
  {
   "cell_type": "markdown",
   "metadata": {},
   "source": [
    "# Task 3: Use the appropriate tests to answer the questions provided for each of the following questions;\n",
    "\n",
    "\n",
    "#### - Is there a significant difference in median value of houses bounded by the Charles river or not? (T-test for independent samples)\n",
    "\n",
    "#### - Is there a difference in Median values of houses (MEDV) for each proportion of owner occupied units built prior to 1940 (AGE)? (ANOVA)\n",
    "\n",
    "#### - Can we conclude that there is no relationship between Nitric oxide concentrations and proportion of non-retail business acres per town? (Pearson Correlation)\n",
    "\n",
    "#### - What is the impact of an additional weighted distance  to the five Boston employment centres on the median value of owner occupied homes? (Regression analysis)\n",
    "\n",
    "### **Be sure to**:\n",
    "\n",
    "##### - State your hypothesis.\n",
    "\n",
    "##### - Use α = 0.05\n",
    "\n",
    "##### - Perform the test Statistics.\n",
    "\n",
    "##### - State the conclusion from the test."
   ]
  },
  {
   "cell_type": "markdown",
   "metadata": {},
   "source": [
    "#####  \n",
    "\n",
    "### Answers for task 3 \n",
    "## 👇"
   ]
  },
  {
   "cell_type": "markdown",
   "metadata": {},
   "source": [
    "### **- Is there a significant difference in median value of houses bounded by the Charles river or not? (T-test for independent samples)**"
   ]
  },
  {
   "cell_type": "markdown",
   "metadata": {},
   "source": [
    "#### **State the Hypothesis**\n",
    "\n",
    "##### **$H0$** : µ_1 = µ_2 (There is no significant difference in median values of houses bounded by the Charles river)\n",
    "\n",
    "##### **$H1$**: µ_1 ≠ µ_2  (There is significant difference in median values of houses bounded by the Charles river)"
   ]
  },
  {
   "cell_type": "code",
   "execution_count": null,
   "metadata": {},
   "outputs": [],
   "source": [
    "df.loc[(df['CHAS'] == 0), 'CHAS_Prox'] = 'FAR'\n",
    "df.loc[(df['CHAS'] == 1), 'CHAS_Prox'] = 'NEAR'"
   ]
  },
  {
   "cell_type": "code",
   "execution_count": null,
   "metadata": {},
   "outputs": [],
   "source": [
    "df.head(3)"
   ]
  },
  {
   "cell_type": "markdown",
   "metadata": {},
   "source": [
    "##### **Levene's test**\n",
    "\n",
    "##### State the Hypothesis:\n",
    "##### H_0: Equality of variance\n",
    "##### H_1: Atleast one variance is not equal"
   ]
  },
  {
   "cell_type": "code",
   "execution_count": null,
   "metadata": {},
   "outputs": [],
   "source": [
    "scipy.stats.levene(df[df['CHAS_Prox'] == 'FAR']['MEDV'], \n",
    "                   df[df['CHAS_Prox'] == 'NEAR']['MEDV'], center = \"mean\")"
   ]
  },
  {
   "cell_type": "markdown",
   "metadata": {},
   "source": [
    "#### Note:\n",
    "The p value is less than alpha i.e. 0.05>0.03. So, we reject the null hypothesis as there Inequality of variance"
   ]
  },
  {
   "cell_type": "code",
   "execution_count": null,
   "metadata": {},
   "outputs": [],
   "source": [
    "scipy.stats.ttest_ind(df[df['CHAS_Prox'] == 'FAR']['MEDV'], \n",
    "                   df[df['CHAS_Prox'] == 'NEAR']['MEDV'], equal_var = False)"
   ]
  },
  {
   "cell_type": "markdown",
   "metadata": {},
   "source": [
    "#### **Result**: \n",
    "#### Since The p value is less than alpha (0.05 > 0.00356) So, we reject the null hypothesis \n",
    "#### as there is significant difference in median value of houses bounded by the Charles river \n",
    "#### -------------------------------------------------------------------------------------------------------------------\n",
    "####"
   ]
  },
  {
   "cell_type": "markdown",
   "metadata": {},
   "source": [
    "### **- Is there a difference in Median values of houses (MEDV) for each proportion of owner occupied units built prior to 1940 (AGE)? (ANOVA)**"
   ]
  },
  {
   "cell_type": "markdown",
   "metadata": {},
   "source": [
    "#### **State the Hypothesis**\n",
    "##### **$H0$** : µ_1=µ_2=µ_3  (the three population means are equal) i.e. There is no significant difference in mean of Median values of houses (MEDV) for each proportion of owner occupied units built prior to 1940.\n",
    "\n",
    "##### **$H1$**:  At least one of the means differ. i.e. There is significant difference in mean of Median values of houses (MEDV) for each proportion of owner occupied units built prior to 1940"
   ]
  },
  {
   "cell_type": "code",
   "execution_count": null,
   "metadata": {},
   "outputs": [],
   "source": [
    "df.loc[(df[\"AGE\"] <= 35), \"AGE_GROUP\"] = \"35 years and younger\"\n",
    "df.loc[(df[\"AGE\"] > 35) & (boston_df[\"AGE\"] < 70), \"AGE_GROUP\"] = \"between 35 and 70 years\"\n",
    "df.loc[(df[\"AGE\"] >= 70), \"AGE_GROUP\"] = \"70 years and older\""
   ]
  },
  {
   "cell_type": "code",
   "execution_count": null,
   "metadata": {},
   "outputs": [],
   "source": [
    "df.head(3)"
   ]
  },
  {
   "cell_type": "markdown",
   "metadata": {},
   "source": [
    "##### **Levene's test**\n",
    "\n",
    "#### State the Hypothesis:\n",
    "H_0: Equality of variance\n",
    "\n",
    "H_1: Atleast one variance is not equal"
   ]
  },
  {
   "cell_type": "code",
   "execution_count": null,
   "metadata": {},
   "outputs": [],
   "source": [
    "# Test for equality of variance\n",
    "scipy.stats.levene(df[df['AGE_GROUP'] == '35 years and younger']['MEDV'],\n",
    "                   df[df['AGE_GROUP'] == 'between 35 and 70 years']['MEDV'], \n",
    "                   df[df['AGE_GROUP'] == '70 years and older']['MEDV'], \n",
    "                   center='mean')"
   ]
  },
  {
   "cell_type": "markdown",
   "metadata": {},
   "source": [
    "#### Note: \n",
    "The p_value is greater than alpha i.e. 0.06>0.05 .. \n",
    "So, we fail to reject the null hypothesis and there is Eqaulity of variance"
   ]
  },
  {
   "cell_type": "code",
   "execution_count": null,
   "metadata": {},
   "outputs": [],
   "source": [
    "thirtyfive_lower   = df[df['AGE_GROUP'] == '35 years and younger']['MEDV']\n",
    "thirtyfive_seventy = df[df['AGE_GROUP'] == 'between 35 and 70 years']['MEDV']\n",
    "seventy_older      = df[df['AGE_GROUP'] == '70 years and older']['MEDV']"
   ]
  },
  {
   "cell_type": "code",
   "execution_count": null,
   "metadata": {},
   "outputs": [],
   "source": [
    "# One way ANOVA\n",
    "f_statistic, p_value = scipy.stats.f_oneway(thirtyfive_lower, thirtyfive_seventy, seventy_older)\n",
    "print(\"F_Statistic: {0}, P-Value: {1}\".format(f_statistic,p_value))"
   ]
  },
  {
   "cell_type": "markdown",
   "metadata": {},
   "source": [
    "#### **Result**: \n",
    "#### Since p-value (1.7105e-15) is less than alpha (0.05) .. So, we reject the null hypothesis. \n",
    "#### As there is significant difference in mean of Median values of houses (MEDV) for each proportion of owner occupied units built \n",
    "#### prior to 1940\n",
    "#### -------------------------------------------------------------------------------------------------------------------\n",
    "####"
   ]
  },
  {
   "cell_type": "markdown",
   "metadata": {},
   "source": [
    "### **- Can we conclude that there is no relationship between Nitric oxide concentrations and proportion of non-retail business acres per town? (Pearson Correlation)**\n"
   ]
  },
  {
   "cell_type": "markdown",
   "metadata": {},
   "source": [
    "#### **State the Hypothesis**\n",
    "##### **$H0$**: There is no significant relationship between Nitric oxide concentrations and proportion of non-retail business acres per town\n",
    "\n",
    "##### **$H1$**: There is significant relationship between Nitric oxide concentrations and proportion of non-retail business acres per town\n",
    "\n",
    "\n",
    "##### **Note**:\n",
    "##### Since variables NOX & INDUS are both continuous variables we will draw a scatter plot anduse a pearson correlation test."
   ]
  },
  {
   "cell_type": "code",
   "execution_count": null,
   "metadata": {},
   "outputs": [],
   "source": [
    "# Create scatter plot\n",
    "plt.figure(figsize=(7,7))\n",
    "sns.scatterplot(x=df.NOX, y=df.INDUS, data=df)\n",
    "plt.title(\"Relationship between NOX and INDUS\")\n",
    "plt.show()"
   ]
  },
  {
   "cell_type": "code",
   "execution_count": null,
   "metadata": {},
   "outputs": [],
   "source": [
    "scipy.stats.pearsonr(df['NOX'], df['INDUS'])"
   ]
  },
  {
   "cell_type": "markdown",
   "metadata": {},
   "source": [
    "#### **Result**: \n",
    "#### Since p_value is less than Alpha value, Then the null hypothesis is rejected \n",
    "#### and we can conclude that there is relationship between Nitric oxide concentrations & proportion of non-retail business acres per town \n",
    "#### \n",
    "##### **Note**:\n",
    "#### **No, we can't conclude there is no relationship between Nitric oxide concentrations and proportion of non-retail business acres per town.**\n",
    "#### -----------------------------------------------------------------------------------------------------------------\n",
    "####\n",
    "####"
   ]
  },
  {
   "cell_type": "markdown",
   "metadata": {},
   "source": [
    "### **- What is the impact of an additional weighted distance  to the five Boston employment centres on the median value of owner occupied homes? (Regression analysis)**"
   ]
  },
  {
   "cell_type": "markdown",
   "metadata": {},
   "source": [
    "#### **State the Hypothesis**\n",
    "##### **$H0$**: Weighted distance to the five Boston employment centres and the median value of owner occupied homes are not correlated.\n",
    "\n",
    "##### **$H1$**: Weighted distance to the five Boston employment centres and the median value of owner occupied homes are correlated."
   ]
  },
  {
   "cell_type": "code",
   "execution_count": null,
   "metadata": {},
   "outputs": [],
   "source": [
    "## X is the input variables (or independent variables)\n",
    "X = df['DIS']\n",
    "## y is the target/dependent variable\n",
    "y = df['MEDV']\n",
    "## add an intercept (beta_0) to our model\n",
    "X = sm.add_constant(X) \n",
    "\n",
    "model = sm.OLS(y, X).fit()\n",
    "predictions = model.predict(X)\n",
    "\n",
    "# Print out the statistics\n",
    "model.summary()"
   ]
  },
  {
   "cell_type": "markdown",
   "metadata": {},
   "source": [
    "#### **Result**: \n",
    "#### Since p_value (1.21e-08)  is less than Alpha value (0.05), Then the null hypothesis is rejected \n",
    "#### and we can conclude Weighted distance to the five Boston employment centres and the median value of owner occupied homes are correlated.\n",
    "####\n",
    "#### but based on correlation coefficient (0.2489 which is the square root of Rsquared 0.062) we can see there is a very weak correlation between those 2 variables\n",
    "#### \n",
    "#### **Final Conculsion**:\n",
    "#### **there is a very low impact of the additional weighted distance  additional weighted distance  to the five Boston employment centres on the median value of owner occupied homes**\n",
    "#### The value of coefficient 1.0916 means that for MEDV increases by 1.0916 times for every 1 weighted distances to five Boston employment centres**\n",
    "#### -----------------------------------------------------------------------------------------------------------------\n",
    "####\n",
    "####"
   ]
  },
  {
   "cell_type": "markdown",
   "metadata": {},
   "source": [
    "####\n",
    "####\n",
    "### Thank you for your patience reviewing this assignment\n",
    "### ** Eng. Yassen Al-Zuriqi\n",
    "#### \n",
    "#### -----------------------------------------------------------------------------\n",
    "#### -----------------------------------------------------------------------------\n",
    "#### -----------------------------------------------------------------------------\n"
   ]
  }
 ],
 "metadata": {
  "kernelspec": {
   "display_name": "Python 3 (ipykernel)",
   "language": "python",
   "name": "python3"
  },
  "language_info": {
   "codemirror_mode": {
    "name": "ipython",
    "version": 3
   },
   "file_extension": ".py",
   "mimetype": "text/x-python",
   "name": "python",
   "nbconvert_exporter": "python",
   "pygments_lexer": "ipython3",
   "version": "3.12.3"
  },
  "prev_pub_hash": "e8217a69c6d5ee68d06c806e939831533d260fbfc123f81d52c578e9136390dd"
 },
 "nbformat": 4,
 "nbformat_minor": 4
}
